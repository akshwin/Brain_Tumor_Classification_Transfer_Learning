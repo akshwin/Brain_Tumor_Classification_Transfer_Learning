{
  "nbformat": 4,
  "nbformat_minor": 0,
  "metadata": {
    "colab": {
      "provenance": []
    },
    "kernelspec": {
      "name": "python3",
      "display_name": "Python 3"
    },
    "language_info": {
      "name": "python"
    }
  },
  "cells": [
    {
      "cell_type": "markdown",
      "source": [
        "# Automated Brain Tumor Classification from MRI Scans: A Deep Learning and Transfer Learning Approach"
      ],
      "metadata": {
        "id": "1i-Eaalw1b7q"
      }
    },
    {
      "cell_type": "markdown",
      "source": [
        "# IMPORT LIBRARIES"
      ],
      "metadata": {
        "id": "sO8yZKqK1fed"
      }
    },
    {
      "cell_type": "code",
      "source": [],
      "metadata": {
        "id": "ckkzi6rU1ckl"
      },
      "execution_count": null,
      "outputs": []
    }
  ]
}